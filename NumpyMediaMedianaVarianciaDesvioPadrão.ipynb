{
  "nbformat": 4,
  "nbformat_minor": 0,
  "metadata": {
    "colab": {
      "provenance": [],
      "authorship_tag": "ABX9TyMsfzSB2qC8rWxA5H/qLcPY",
      "include_colab_link": true
    },
    "kernelspec": {
      "name": "python3",
      "display_name": "Python 3"
    },
    "language_info": {
      "name": "python"
    }
  },
  "cells": [
    {
      "cell_type": "markdown",
      "metadata": {
        "id": "view-in-github",
        "colab_type": "text"
      },
      "source": [
        "<a href=\"https://colab.research.google.com/github/JasminShadday/Analise-Exploratoria-de-Dados/blob/main/NumpyMediaMedianaVarianciaDesvioPadr%C3%A3o.ipynb\" target=\"_parent\"><img src=\"https://colab.research.google.com/assets/colab-badge.svg\" alt=\"Open In Colab\"/></a>"
      ]
    },
    {
      "cell_type": "code",
      "execution_count": null,
      "metadata": {
        "id": "84QFuMH8AwbX"
      },
      "outputs": [],
      "source": [
        "'''\n",
        "Dada a altura dos alunos das turmas CCSANE SISAN determine a\n",
        "média, variância e desvio padrão dos dados\n",
        "'''\n",
        "import numpy as np\n",
        "\n",
        "A = [1.85, 1.67, 1.83, 1.63, 1.81, 1.85, 1.85, 1.57, 1.75, 1.75,\n",
        "1.80, 1.77, 1.70, 1.65, 1.80, 1.78, 1.83, 1.79, 1.94, 1.78, 1.87, 1.94]\n"
      ]
    },
    {
      "cell_type": "code",
      "source": [
        "media = sum(A) / len(A)\n",
        "print(media)"
      ],
      "metadata": {
        "colab": {
          "base_uri": "https://localhost:8080/"
        },
        "id": "fIpxkF9mCRNp",
        "outputId": "ea38cbab-e06e-44ef-88d4-05377408a857"
      },
      "execution_count": null,
      "outputs": [
        {
          "output_type": "stream",
          "name": "stdout",
          "text": [
            "1.7822727272727272\n"
          ]
        }
      ]
    },
    {
      "cell_type": "code",
      "source": [
        "#variancia vai nos dizer o quanto que os dados teve a variancia das médias\n",
        "var = sum([(x - media)**2 for x in A]) / len(A)\n",
        "print(f'A variância é {var}')"
      ],
      "metadata": {
        "colab": {
          "base_uri": "https://localhost:8080/"
        },
        "id": "Ubu1tsiRFM9j",
        "outputId": "dce2b5a8-4f5d-4a27-a9ec-78355468a981"
      },
      "execution_count": null,
      "outputs": [
        {
          "output_type": "stream",
          "name": "stdout",
          "text": [
            "A variância é 0.008390289256198351\n"
          ]
        }
      ]
    },
    {
      "cell_type": "markdown",
      "source": [
        "Usando Numpy"
      ],
      "metadata": {
        "id": "hML_eJSzJ2W9"
      }
    },
    {
      "cell_type": "code",
      "source": [
        "media = np.mean(A)\n",
        "mediana = np.median(A)\n",
        "var = np.var(A)\n",
        "DP = np.std(A)\n",
        "print(f'A média é {media}')\n",
        "print(f'A mediana é {mediana}')\n",
        "print(f'A variância é {var}')\n",
        "print(f'O desvio padrão é {DP}')"
      ],
      "metadata": {
        "colab": {
          "base_uri": "https://localhost:8080/"
        },
        "id": "BaJDn_P8Io4d",
        "outputId": "86fc9a41-7e20-4966-d5be-dba57f58169e"
      },
      "execution_count": null,
      "outputs": [
        {
          "output_type": "stream",
          "name": "stdout",
          "text": [
            "A média é 1.782272727272727\n",
            "A mediana é 1.795\n",
            "A variância é 0.00839028925619835\n",
            "O desvio padrão é 0.09159852212889873\n"
          ]
        }
      ]
    }
  ]
}